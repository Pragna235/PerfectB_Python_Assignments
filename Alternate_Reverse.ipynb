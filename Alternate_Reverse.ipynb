{
  "nbformat": 4,
  "nbformat_minor": 0,
  "metadata": {
    "colab": {
      "provenance": [],
      "collapsed_sections": [],
      "include_colab_link": true
    },
    "kernelspec": {
      "name": "python3",
      "display_name": "Python 3"
    },
    "language_info": {
      "name": "python"
    }
  },
  "cells": [
    {
      "cell_type": "markdown",
      "metadata": {
        "id": "view-in-github",
        "colab_type": "text"
      },
      "source": [
        "<a href=\"https://colab.research.google.com/github/Pragna235/PerfectB_Python_Assignments/blob/main/Alternate_Reverse.ipynb\" target=\"_parent\"><img src=\"https://colab.research.google.com/assets/colab-badge.svg\" alt=\"Open In Colab\"/></a>"
      ]
    },
    {
      "cell_type": "markdown",
      "source": [
        "**Python Program to reverses alternate strings and then concatenates all elements**"
      ],
      "metadata": {
        "id": "9Gm6RxppU9TS"
      }
    },
    {
      "cell_type": "markdown",
      "source": [
        "INPUT: \n",
        "\n",
        "python is easy to learn\n",
        "\n",
        "OUTPUT:\n",
        "\n",
        "nohtyp is ysae to nrael\n"
      ],
      "metadata": {
        "id": "SNDZdDcTVIAs"
      }
    },
    {
      "cell_type": "code",
      "source": [
        "#type your code here\n",
        "str1=\"python is easy to learn\"\n",
        "str2=str1.split()\n",
        "#print(str2)\n",
        "str3=''\n",
        "for i in range(0,len(str2),2):\n",
        "  str2[i]=str2[i][::-1]\n",
        "#print(str2)\n",
        "for i in str2:\n",
        "  str3=str3+i+' '\n",
        "print(str3)\n",
        "  \n",
        " \n"
      ],
      "metadata": {
        "id": "rMsdIFwfW2Jk",
        "colab": {
          "base_uri": "https://localhost:8080/"
        },
        "outputId": "070e0502-ab83-40cd-8297-bbfc5c803de7"
      },
      "execution_count": 17,
      "outputs": [
        {
          "output_type": "stream",
          "name": "stdout",
          "text": [
            "nohtyp is ysae to nrael \n"
          ]
        }
      ]
    },
    {
      "cell_type": "code",
      "execution_count": null,
      "metadata": {
        "id": "Y7O-FfSpU8e3"
      },
      "outputs": [],
      "source": [
        "#@title\n",
        "# initializing string\n",
        "test_str = 'python is easy to learn'\n",
        "\n",
        "# printing original string\n",
        "print(\"The original string is : \" + str(test_str))\n",
        "\n",
        "# splitting string\n",
        "temp = test_str.split()\n",
        "\n",
        "res = []\n",
        "for idx in range(len(temp)):\n",
        "\t\n",
        "\t# reversing if alternate\n",
        "\tif idx % 2 == 0:\n",
        "\t\tres.append(''.join(list(reversed(temp[idx]))))\n",
        "\telse :\n",
        "\t\tres.append(temp[idx])\n",
        "\t\t\n",
        "res = ' '.join(res)\n",
        "\n",
        "# printing result\n",
        "print(\"Transformed String : \" + str(res))\n"
      ]
    }
  ]
}