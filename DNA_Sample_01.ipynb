{
  "nbformat": 4,
  "nbformat_minor": 0,
  "metadata": {
    "colab": {
      "provenance": [],
      "collapsed_sections": [],
      "include_colab_link": true
    },
    "kernelspec": {
      "name": "python3",
      "display_name": "Python 3"
    },
    "language_info": {
      "name": "python"
    }
  },
  "cells": [
    {
      "cell_type": "markdown",
      "metadata": {
        "id": "view-in-github",
        "colab_type": "text"
      },
      "source": [
        "<a href=\"https://colab.research.google.com/github/Pragna235/PerfectB_Python_Projects/blob/main/DNA_Sample_01.ipynb\" target=\"_parent\"><img src=\"https://colab.research.google.com/assets/colab-badge.svg\" alt=\"Open In Colab\"/></a>"
      ]
    },
    {
      "cell_type": "markdown",
      "source": [
        "given a string, which is a DNA sample consisting of only A,T,C and G letters. find the letter with most frequency\n",
        "\n",
        "\n",
        "input: \"ATCATAG\"\n",
        "\n",
        "output: \"A\"\n",
        "\n",
        "explanation: 'A' occured more times than all the other letters from the DNA sample"
      ],
      "metadata": {
        "id": "_1kEvcMQ_N0k"
      }
    },
    {
      "cell_type": "code",
      "execution_count": 4,
      "metadata": {
        "id": "aZwwqaFj9k5q",
        "colab": {
          "base_uri": "https://localhost:8080/"
        },
        "outputId": "0b5d138f-7e10-4529-d085-87ec36a94c93"
      },
      "outputs": [
        {
          "output_type": "stream",
          "name": "stdout",
          "text": [
            "AAAATCG\n",
            "A\n"
          ]
        }
      ],
      "source": [
        "#your code goes here\n",
        "sample=input()\n",
        "a,t,c,g=0,0,0,0\n",
        "for i in sample:\n",
        "  if i=='A':\n",
        "    a=a+1\n",
        "  elif i=='C':\n",
        "    c=c+1\n",
        "  elif i=='T':\n",
        "    t=t+1\n",
        "  elif i=='G':\n",
        "    g=g+1\n",
        "if(a>c and a>t and a>g):\n",
        "  print('A')\n",
        "elif (c>a and c>t and c>g):\n",
        "  print('C')\n",
        "elif (t>a and t>c and t>g):\n",
        "  print('T')\n",
        "elif(g>a and g>c and g>t):\n",
        "  print('G')"
      ]
    },
    {
      "cell_type": "code",
      "source": [
        "#@title\n",
        "s = input()\n",
        "a_count,c_count,t_count,g_count=0,0,0,0\n",
        "for i in s:\n",
        "  if i=='A':\n",
        "    a_count+=1\n",
        "  elif i=='C':\n",
        "    c_count+=1\n",
        "  elif i=='T':\n",
        "    t_count+=1\n",
        "  else:\n",
        "    g_count+=1\n",
        "#your task is to find the maximum letter count and print it"
      ],
      "metadata": {
        "id": "8PM-S2ng_yWA"
      },
      "execution_count": null,
      "outputs": []
    }
  ]
}