{
  "nbformat": 4,
  "nbformat_minor": 0,
  "metadata": {
    "colab": {
      "provenance": [],
      "collapsed_sections": [],
      "include_colab_link": true
    },
    "kernelspec": {
      "name": "python3",
      "display_name": "Python 3"
    },
    "language_info": {
      "name": "python"
    }
  },
  "cells": [
    {
      "cell_type": "markdown",
      "metadata": {
        "id": "view-in-github",
        "colab_type": "text"
      },
      "source": [
        "<a href=\"https://colab.research.google.com/github/Pragna235/PerfectB_Python_Assignments/blob/main/Number_of_Matching_Characters.ipynb\" target=\"_parent\"><img src=\"https://colab.research.google.com/assets/colab-badge.svg\" alt=\"Open In Colab\"/></a>"
      ]
    },
    {
      "cell_type": "markdown",
      "source": [],
      "metadata": {
        "id": "q53c17RLTAxO"
      }
    },
    {
      "cell_type": "markdown",
      "source": [
        "#Count the Number of matching characters in a pair of string\n",
        "\n",
        "Input : \n",
        "\n",
        "str1 = 'abcdef'\n",
        "        \n",
        "str2 = 'defghia'\n",
        "Output : 4 \n",
        "\n",
        "(i.e. matching characters :- a, d, e, f)\n",
        "\n",
        "\n",
        "Input : \n",
        "\n",
        "str1 = 'aabcddekll12@'\n",
        "        \n",
        "str2 = 'bb22ll@55k'\n",
        "\n",
        "Output : 5 \n",
        "\n",
        "(i.e. matching characters :- b, 1, 2, @, k)"
      ],
      "metadata": {
        "id": "TTNVrnRadh3f"
      }
    },
    {
      "cell_type": "code",
      "execution_count": 47,
      "metadata": {
        "id": "wa5YsmK9dYbP",
        "colab": {
          "base_uri": "https://localhost:8080/"
        },
        "outputId": "f87ac7fd-6595-427e-feaf-12bceecb950e"
      },
      "outputs": [
        {
          "output_type": "stream",
          "name": "stdout",
          "text": [
            "Enter any string = aabcddekll12@\n",
            "Enter any string = bb22ll@55k\n",
            "5\n"
          ]
        }
      ],
      "source": [
        "#Your code goes here\n",
        "str1=input(\"Enter any string = \")\n",
        "str2=input(\"Enter any string = \")\n",
        "sstr1=set(str1)\n",
        "sstr2=set(str2)\n",
        "count=0\n",
        "for i in sstr1:\n",
        "  for j in sstr2:\n",
        "    if(i==j):\n",
        "      count+=1\n",
        "print(count)"
      ]
    },
    {
      "cell_type": "code",
      "source": [
        "#@title\n",
        "\n",
        "str1 = 'aabcddekll12@' \n",
        "str2 = 'bb2211@55k' \n",
        "\n",
        "def count(str1 ,str2) :\n",
        "    \n",
        "    set_string1 = set(str1)\n",
        "    set_string2 = set(str2)\n",
        "    #print(set_string1,set_string2)\n",
        "    matched_characters = set_string1 & set_string2\n",
        "    #print(matched_characters)\n",
        "    print(\"No. of matching characters are : \" + str(len(matched_characters)) )\n",
        "   \n",
        "  \n",
        "count( str1 , str2 )\n",
        "     "
      ],
      "metadata": {
        "id": "DSFgx5J2eHi2",
        "colab": {
          "base_uri": "https://localhost:8080/"
        },
        "outputId": "b35a668f-52f4-4a53-a113-d5a1d98d8cfe"
      },
      "execution_count": 37,
      "outputs": [
        {
          "output_type": "stream",
          "name": "stdout",
          "text": [
            "No. of matching characters are : 5\n"
          ]
        }
      ]
    }
  ]
}