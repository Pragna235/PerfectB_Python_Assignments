{
  "nbformat": 4,
  "nbformat_minor": 0,
  "metadata": {
    "colab": {
      "provenance": [],
      "include_colab_link": true
    },
    "kernelspec": {
      "name": "python3",
      "display_name": "Python 3"
    },
    "language_info": {
      "name": "python"
    }
  },
  "cells": [
    {
      "cell_type": "markdown",
      "metadata": {
        "id": "view-in-github",
        "colab_type": "text"
      },
      "source": [
        "<a href=\"https://colab.research.google.com/github/Pragna235/PerfectB_Python_Assignments/blob/main/Replace_Vowels.ipynb\" target=\"_parent\"><img src=\"https://colab.research.google.com/assets/colab-badge.svg\" alt=\"Open In Colab\"/></a>"
      ]
    },
    {
      "cell_type": "markdown",
      "source": [
        "Write a python program to Replace vowels in a string with a specific character K\n",
        "\n",
        "**INPUT**\n",
        "\n",
        "str=\"Hello, have you tried our tutorial section yet\"\n",
        "\n",
        "k=#\n",
        "\n",
        "**OUTPUT**\n",
        "\n",
        "str='H#ll#, h#v# y## tr##d ##r t#t#r##l s#ct##n y#t"
      ],
      "metadata": {
        "id": "VdepjYWa4P3o"
      }
    },
    {
      "cell_type": "code",
      "source": [
        "string=input(\"Enter any String = \")\n",
        "k=input(\"Enter the replacing value = \")\n",
        "for i in string:\n",
        "  if(i=='a' or i=='e' or i=='i' or i=='o' or i=='u' or i=='A' or i=='E' or i=='I' or i=='O' or i=='U'):\n",
        "    string=string.replace(i,k)\n",
        "print(\"Replaced String is \",string)"
      ],
      "metadata": {
        "colab": {
          "base_uri": "https://localhost:8080/"
        },
        "id": "XAU2h4Av_s4F",
        "outputId": "801e7172-9132-46a8-8d13-5d1bf1c99e6b"
      },
      "execution_count": 9,
      "outputs": [
        {
          "output_type": "stream",
          "name": "stdout",
          "text": [
            "Enter any String = Alice\n",
            "Enter the replacing value = *\n",
            "Replaced String is  *l*c*\n"
          ]
        }
      ]
    },
    {
      "cell_type": "code",
      "execution_count": null,
      "metadata": {
        "id": "edPIfVfp4Lkj"
      },
      "outputs": [],
      "source": [
        "#@title \n",
        "# Function to Replace each vowel in\n",
        "# the string with a specified character\n",
        "def replaceVowelsWithK(test_str, K):\n",
        "\n",
        "\t# string of vowels\n",
        "\tvowels = 'AEIOUaeiou'\n",
        "\n",
        "\t# iterating to check vowels in string\n",
        "\tfor ele in vowels:\n",
        "\n",
        "\t\t# replacing vowel with the specified character\n",
        "\t\ttest_str = test_str.replace(ele, K)\n",
        "\n",
        "\treturn test_str\n",
        "\n",
        "\n",
        "\n",
        "# Driver Code\n",
        "# input string\n",
        "input_str = \"'Hello, have you tried our tutorial section yet\"\n",
        "\n",
        "# specified character\n",
        "K = \"#\"\n",
        "\n",
        "# printing input\n",
        "print(\"Given Sting:\", input_str)\n",
        "print(\"Given Specified Character:\", K)\n",
        "\n",
        "# printing output\n",
        "print(\"After replacing vowels with the specified character:\",\n",
        "\treplaceVowelsWithK(input_str, K))\n"
      ]
    }
  ]
}