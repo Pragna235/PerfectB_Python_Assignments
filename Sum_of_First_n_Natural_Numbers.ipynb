{
  "nbformat": 4,
  "nbformat_minor": 0,
  "metadata": {
    "colab": {
      "provenance": [],
      "collapsed_sections": [],
      "include_colab_link": true
    },
    "kernelspec": {
      "name": "python3",
      "display_name": "Python 3"
    },
    "language_info": {
      "name": "python"
    }
  },
  "cells": [
    {
      "cell_type": "markdown",
      "metadata": {
        "id": "view-in-github",
        "colab_type": "text"
      },
      "source": [
        "<a href=\"https://colab.research.google.com/github/Pragna235/PerfectB_Python_Projects/blob/main/Sum_of_First_n_Natural_Numbers.ipynb\" target=\"_parent\"><img src=\"https://colab.research.google.com/assets/colab-badge.svg\" alt=\"Open In Colab\"/></a>"
      ]
    },
    {
      "cell_type": "markdown",
      "source": [
        "Write a python program to print sum of first n natural numbers\n",
        "\n",
        "\n",
        "input: n=5\n",
        "\n",
        "output =  15( 1+2+3+4+5 )"
      ],
      "metadata": {
        "id": "QZWz5BaHEk0q"
      }
    },
    {
      "cell_type": "code",
      "execution_count": 4,
      "metadata": {
        "id": "OMAlRbsxDt-O",
        "colab": {
          "base_uri": "https://localhost:8080/"
        },
        "outputId": "2993e7cd-d2d3-466b-da0b-4e26fe0d4248"
      },
      "outputs": [
        {
          "output_type": "stream",
          "name": "stdout",
          "text": [
            "100\n",
            "5050\n"
          ]
        }
      ],
      "source": [
        "#your code goes here\n",
        "n=int(input())\n",
        "sum=0\n",
        "while(n>0):\n",
        "  sum+=n\n",
        "  n-=1\n",
        "print(sum)"
      ]
    },
    {
      "cell_type": "code",
      "source": [
        "#your code goes here\n",
        "p=int(input())\n",
        "print((p*(p+1))//2)"
      ],
      "metadata": {
        "colab": {
          "base_uri": "https://localhost:8080/"
        },
        "id": "xc1HOlEB-pwu",
        "outputId": "a8e268d9-66ec-4097-ec30-a5ea77f54430"
      },
      "execution_count": 7,
      "outputs": [
        {
          "output_type": "stream",
          "name": "stdout",
          "text": [
            "10\n",
            "55\n"
          ]
        }
      ]
    },
    {
      "cell_type": "code",
      "source": [
        "#@title\n",
        "# approach 1\n",
        "n = int(input())\n",
        "sum = 0\n",
        "for i in range(1,n+1):\n",
        "  sum+=1\n",
        "print(sum)"
      ],
      "metadata": {
        "cellView": "form",
        "id": "ejTpNiZzEyZ7"
      },
      "execution_count": null,
      "outputs": []
    },
    {
      "cell_type": "code",
      "source": [
        "#@title\n",
        "n = int(input())\n",
        "print(n*(n+1)/2)"
      ],
      "metadata": {
        "cellView": "form",
        "id": "LDf1CtsBEycJ"
      },
      "execution_count": null,
      "outputs": []
    }
  ]
}